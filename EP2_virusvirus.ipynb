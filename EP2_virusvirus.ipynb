{
 "cells": [
  {
   "cell_type": "markdown",
   "metadata": {},
   "source": [
    "# EP2 - Modelando o SARS-CoV-2"
   ]
  },
  {
   "cell_type": "markdown",
   "metadata": {},
   "source": [
    "Hello, little fellows."
   ]
  },
  {
   "cell_type": "code",
   "execution_count": 30,
   "metadata": {},
   "outputs": [],
   "source": [
    "import math                          # exp(), ...\n",
    "import matplotlib.pyplot as pyplot   # plot(), ..."
   ]
  },
  {
   "cell_type": "markdown",
   "metadata": {},
   "source": [
    "Neste EP você vai simular o modelo dinâmico do COVID-19 resolvendo numericamente, por\n",
    "Euler, a eq. 4 para algumas situações diferentes ligadas aos parâmetros $\\alpha, \\lambda,$ A e $t_0$."
   ]
  },
  {
   "cell_type": "markdown",
   "metadata": {},
   "source": [
    "$\\frac{dN}{dt} = \\alpha \\bigg(1 - \\frac{N}{\\eta t^2} \\bigg)N - \\bigg(\\frac{2\\lambda t^2 - 1}{t} - \\frac{\\lambda (t_0)^2}{t} e^{-\\lambda (t-t_0)^2}\\bigg)N$"
   ]
  },
  {
   "cell_type": "markdown",
   "metadata": {},
   "source": [
    "sendo $\\alpha > 0$ o fator de crescimento, $t_0$ o tempo inicial que depende de medidas de restrição, $\\lambda = \\sigma^{-1}$ e $\\eta = 2A/t_0$, onde A é um parâmetro que depende do vírus e das medidas de restrição."
   ]
  },
  {
   "cell_type": "markdown",
   "metadata": {},
   "source": [
    "1. Assumindo que estamos numa ilha isolada, simule a evolução de N para um conjunto {$\\alpha, \\lambda$, A, $t_0$}. Nesse caso, o vetor de estados é unidimensional v(t) = \\[N\\](t). Faça um gráfico bonito para mostrar a evolução de v em relação a t, i.e. v(t). Faça também uma simulação dinâmica usando os recursos explicados em aula."
   ]
  },
  {
   "cell_type": "markdown",
   "metadata": {},
   "source": [
    "Dado o enunciado, a função que nos interessa recebe como parâmetros {$\\alpha, \\lambda, t_0, A$}. Sua evolução deve ser modelada a partir do método de Euler, por meio do qual se realiza uma aproximação da equação diferencial a partir de diferenças finitas:\n",
    "\n",
    "$$\\frac{dN}{dt} =  \\frac{N_{t+1} - N_{t}}{dt} \\rightarrow N_{t+1} = N_t + \\bigg[\\alpha \\bigg(1 - \\frac{N}{\\eta t^2} \\bigg)N - \\bigg(\\frac{2\\lambda t^2 - 1}{t} - \\frac{\\lambda (t_0)^2}{t} e^{-\\lambda (t-t_0)^2}\\bigg)N \\bigg]dt $$\n",
    "\n",
    "seja $N = N_t$, temos\n",
    "\n",
    "$$N_{t+1} = N_t + \\bigg[\\alpha \\bigg(1 - \\frac{N_t}{\\eta t^2} \\bigg)N_t - \\bigg(\\frac{2\\lambda t^2 - 1}{t} - \\frac{\\lambda (t_0)^2}{t} e^{-\\lambda (t-t_0)^2}\\bigg)N_t \\bigg]dt $$\n"
   ]
  },
  {
   "cell_type": "code",
   "execution_count": 47,
   "metadata": {},
   "outputs": [],
   "source": [
    "# N é o número de pessoas infectadas num certo tempo t\n",
    "\n",
    "def nextN(N_0, dt, alfa, lamb, t0, A, t):\n",
    "    eta = (2*A)/t0\n",
    "    #print(eta)\n",
    "    \n",
    "    N  = alfa*(1-N_0/(eta*t**2))\n",
    "    aux = ((2*lamb*t**2 -1)-(lamb*t0**2)*(math.exp(-lamb*(t-t0)**2)))/t\n",
    "    #print(aux)\n",
    "    N -= aux\n",
    "    N *= N_0\n",
    "    \n",
    "    # Euler\n",
    "    N *= dt\n",
    "    N += N_0\n",
    "    \n",
    "    return N"
   ]
  },
  {
   "cell_type": "code",
   "execution_count": 60,
   "metadata": {},
   "outputs": [
    {
     "data": {
      "image/png": "[encoded data removed]",
      "text/plain": [
       "<Figure size 432x288 with 1 Axes>"
      ]
     },
     "metadata": {
      "needs_background": "light"
     },
     "output_type": "display_data"
    },
    {
     "name": "stdout",
     "output_type": "stream",
     "text": [
      "[1, 1, 1, 2, 2, 3, 3, 4, 5, 7, 8, 10, 12, 15, 18, 21, 25, 30, 35, 41, 48, 56, 66, 76, 88, 102, 117, 134, 154, 175, 199, 225, 254, 285, 320, 357, 398, 442, 489, 539, 592, 648, 708, 770, 835, 903, 973, 1044, 1118, 1193, 1269, 1345, 1422, 1499, 1576, 1652, 1727, 1800, 1872, 1942, 2009, 2074, 2136, 2195, 2251, 2303, 2352, 2398, 2439, 2477, 2512, 2542, 2568, 2591, 2609, 2624, 2635, 2642, 2645, 2645, 2641, 2633, 2622, 2607, 2589, 2568, 2544, 2517, 2487, 2453, 2418, 2380, 2339, 2296, 2251, 2204, 2155, 2104, 2052, 1999, 1944, 1888, 1831, 1773, 1715, 1656, 1597, 1538, 1478, 1419, 1360, 1302, 1244, 1186, 1130, 1074, 1020, 966, 914, 863, 813, 765, 719, 674, 630, 589, 549, 510, 474, 439, 406, 375, 345, 317, 291, 266, 243, 222, 202, 183, 166, 150, 135, 122, 109, 98, 87, 78, 69, 61]\n"
     ]
    }
   ],
   "source": [
    "def main():\n",
    "    # Alguns dos dados abaixo foram retirados do \n",
    "    # documento do Sonino para o caso da Itália (p. 12)\n",
    "    # https://arxiv.org/pdf/2003.13540v5.pdf\n",
    "    \n",
    "    # A maioria é aleatória tho\n",
    "    N_0 = 1 #165155 - número de casos em t0\n",
    "    dt = 1 # passo = 1 dia\n",
    "    alfa = 0.2\n",
    "    lamb = 0.001 #0.0014\n",
    "    t0 = 10 #70.6 - tempo inicial\n",
    "    A = 10 #302.5 \n",
    "    t = t0\n",
    "    N = N_0\n",
    "    v = []\n",
    "    t_f = 160\n",
    "    \n",
    "    while(t < t_f and N >= 0):\n",
    "        v.append(int(N))\n",
    "        t += dt\n",
    "        N = nextN(N, dt, alfa, lamb, t0, A, t)\n",
    "\n",
    "    pyplot.figure()\n",
    "    pyplot.plot(v,linestyle='',marker='o',color='r')\n",
    "    pyplot.title('Casos de COVID-19')\n",
    "    pyplot.ylabel('Num. de casos')\n",
    "    pyplot.xlabel('Tempo (em dias)')\n",
    "    pyplot.show()\n",
    "    \n",
    "    print(v)\n",
    "    \n",
    "\n",
    "main()"
   ]
  },
  {
   "cell_type": "code",
   "execution_count": null,
   "metadata": {},
   "outputs": [],
   "source": []
  }
 ],
 "metadata": {
  "hide_input": false,
  "kernelspec": {
   "display_name": "Python 2",
   "language": "python",
   "name": "python2"
  },
  "language_info": {
   "codemirror_mode": {
    "name": "ipython",
    "version": 2
   },
   "file_extension": ".py",
   "mimetype": "text/x-python",
   "name": "python",
   "nbconvert_exporter": "python",
   "pygments_lexer": "ipython2",
   "version": "2.7.17"
  },
  "toc": {
   "base_numbering": 1,
   "nav_menu": {},
   "number_sections": true,
   "sideBar": true,
   "skip_h1_title": false,
   "title_cell": "Table of Contents",
   "title_sidebar": "Contents",
   "toc_cell": false,
   "toc_position": {},
   "toc_section_display": true,
   "toc_window_display": false
  }
 },
 "nbformat": 4,
 "nbformat_minor": 4
}
