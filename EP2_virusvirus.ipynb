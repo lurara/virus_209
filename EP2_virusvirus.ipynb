{
 "cells": [
  {
   "cell_type": "markdown",
   "metadata": {},
   "source": [
    "# EP2 - Modelando o SARS-CoV-2"
   ]
  },
  {
   "cell_type": "markdown",
   "metadata": {},
   "source": [
    "Hello, little fellows."
   ]
  },
  {
   "cell_type": "code",
   "execution_count": 3,
   "metadata": {},
   "outputs": [],
   "source": [
    "import math                          # exp(), ...\n",
    "import matplotlib.pyplot as pyplot   # plot(), ..."
   ]
  },
  {
   "cell_type": "markdown",
   "metadata": {},
   "source": [
    "Neste EP você vai simular o modelo dinâmico do COVID-19 resolvendo numericamente, por\n",
    "Euler, a eq. 4 para algumas situações diferentes ligadas aos parâmetros $\\alpha, \\lambda,$ A e $t_0$."
   ]
  },
  {
   "cell_type": "markdown",
   "metadata": {},
   "source": [
    "$\\frac{dN}{dt} = \\alpha \\bigg(1 - \\frac{N}{\\eta t^2} \\bigg)N - \\bigg(\\frac{2\\lambda t^2 - 1}{t} - \\frac{\\lambda (t_0)^2}{t} e^{-\\lambda (t-t_0)^2}\\bigg)N$"
   ]
  },
  {
   "cell_type": "markdown",
   "metadata": {},
   "source": [
    "sendo $\\alpha > 0$ o fator de crescimento, $t_0$ o tempo inicial que depende de medidas de restrição, $\\lambda = \\sigma^{-1}$ e $\\eta = 2A/t_0$, onde A é um parâmetro que depende do vírus e das medidas de restrição."
   ]
  },
  {
   "cell_type": "markdown",
   "metadata": {},
   "source": [
    "1. Assumindo que estamos numa ilha isolada, simule a evolução de N para um conjunto {$\\alpha, \\lambda$, A, $t_0$}. Nesse caso, o vetor de estados é unidimensional v(t) = \\[N\\](t). Faça um gráfico bonito para mostrar a evolução de v em relação a t, i.e. v(t). Faça também uma simulação dinâmica usando os recursos explicados em aula."
   ]
  },
  {
   "cell_type": "markdown",
   "metadata": {},
   "source": [
    "Dado o enunciado, a função que nos interessa recebe como parâmetros {$\\alpha, \\lambda, t_0, A$}. Sua evolução deve ser modelada a partir do método de Euler, por meio do qual se realiza uma aproximação da equação diferencial a partir de diferenças finitas:\n",
    "\n",
    "$$\\frac{dN}{dt} =  \\frac{N_{t+1} - N_{t}}{dt} \\rightarrow N_{t+1} = N_t + \\bigg[\\alpha \\bigg(1 - \\frac{N}{\\eta t^2} \\bigg)N - \\bigg(\\frac{2\\lambda t^2 - 1}{t} - \\frac{\\lambda (t_0)^2}{t} e^{-\\lambda (t-t_0)^2}\\bigg)N \\bigg]dt $$\n",
    "\n",
    "seja $N = N_t$, temos\n",
    "\n",
    "$$N_{t+1} = N_t + \\bigg[\\alpha \\bigg(1 - \\frac{N_t}{\\eta t^2} \\bigg)N_t - \\bigg(\\frac{2\\lambda t^2 - 1}{t} - \\frac{\\lambda (t_0)^2}{t} e^{-\\lambda (t-t_0)^2}\\bigg)N_t \\bigg]dt \\\\ $$\n",
    "\n",
    "que é o número de pessoas infectadas para um tempo $t$."
   ]
  },
  {
   "cell_type": "markdown",
   "metadata": {},
   "source": [
    "## Método de Euler"
   ]
  },
  {
   "cell_type": "code",
   "execution_count": 4,
   "metadata": {},
   "outputs": [],
   "source": [
    "# N é o número de pessoas infectadas num certo tempo t\n",
    "\n",
    "def nextN(N_0, dt, alfa, lamb, t0, A, t):\n",
    "    eta = (2*A)/t0\n",
    "    #print(eta)\n",
    "    \n",
    "    N  = alfa*(1-N_0/(eta*t**2))\n",
    "    aux = ((2*lamb*t**2 -1)-(lamb*t0**2)*(math.exp(-lamb*(t-t0)**2)))/t\n",
    "    #print(aux)\n",
    "    N -= aux\n",
    "    N *= N_0\n",
    "    \n",
    "    # Euler\n",
    "    N *= dt\n",
    "    N += N_0\n",
    "    \n",
    "    return N"
   ]
  },
  {
   "cell_type": "markdown",
   "metadata": {},
   "source": [
    "## Simulação "
   ]
  },
  {
   "cell_type": "code",
   "execution_count": 39,
   "metadata": {},
   "outputs": [],
   "source": [
    "# Retorna o vetor de estados\n",
    "\n",
    "def sim():\n",
    "    # Alguns dos dados abaixo foram retirados do \n",
    "    # documento do Sonino para o caso da Itália (p. 12)\n",
    "    # https://arxiv.org/pdf/2003.13540v5.pdf\n",
    "    \n",
    "    # A maioria é aleatória tho\n",
    "    N_0 = 50            # 165155 - número de casos em t0\n",
    "    dt = 1             # passo = 1 dia\n",
    "    t0 = 10            # 70.6 - parâmetro relativo ao pico da curva?\n",
    "    lamb = 0.001       # 0.0014 - para uma simulação decente, tive que usar na ordem de 10^{-3}\n",
    "    alfa = 2*t0*lamb   # 0.2 - do pdf, alfa = 2t0*lamb\n",
    "    A = 100             # 302.5 \n",
    "    t = 10\n",
    "    N = N_0\n",
    "    v = []\n",
    "    t_f = 160\n",
    "    \n",
    "    while(t < t_f and N >= 1):\n",
    "        v.append(int(N))\n",
    "        t += dt\n",
    "        N = nextN(N, dt, alfa, lamb, t0, A, t)\n",
    "        \n",
    "    #print(v)\n",
    "    return v"
   ]
  },
  {
   "cell_type": "markdown",
   "metadata": {},
   "source": [
    "### Simulação em Gráfico:"
   ]
  },
  {
   "cell_type": "code",
   "execution_count": 40,
   "metadata": {},
   "outputs": [
    {
     "data": {
      "image/png": "[encoded data removed]",
      "text/plain": [
       "<Figure size 432x288 with 1 Axes>"
      ]
     },
     "metadata": {
      "needs_background": "light"
     },
     "output_type": "display_data"
    }
   ],
   "source": [
    "def simPlot(v):\n",
    "    pyplot.figure()\n",
    "    pyplot.plot(v,linestyle='',marker='o',color='r')\n",
    "    pyplot.title('Casos de COVID-19')\n",
    "    pyplot.ylabel('Num. de casos')\n",
    "    pyplot.xlabel('Tempo (em dias)')\n",
    "    pyplot.show()    \n",
    "\n",
    "simPlot(sim())"
   ]
  },
  {
   "cell_type": "markdown",
   "metadata": {},
   "source": [
    "### Simulação Dinâmica:"
   ]
  },
  {
   "cell_type": "code",
   "execution_count": 14,
   "metadata": {},
   "outputs": [
    {
     "data": {
      "text/plain": [
       "0"
      ]
     },
     "execution_count": 14,
     "metadata": {},
     "output_type": "execute_result"
    }
   ],
   "source": [
    "def simAnim():\n",
    "    return 0\n",
    "\n",
    "simAnim()"
   ]
  },
  {
   "cell_type": "markdown",
   "metadata": {},
   "source": []
  },
  {
   "cell_type": "code",
   "execution_count": null,
   "metadata": {},
   "outputs": [],
   "source": []
  },
  {
   "cell_type": "code",
   "execution_count": null,
   "metadata": {},
   "outputs": [],
   "source": []
  },
  {
   "cell_type": "code",
   "execution_count": null,
   "metadata": {},
   "outputs": [],
   "source": []
  }
 ],
 "metadata": {
  "hide_input": false,
  "kernelspec": {
   "display_name": "Python 2",
   "language": "python",
   "name": "python2"
  },
  "language_info": {
   "codemirror_mode": {
    "name": "ipython",
    "version": 2
   },
   "file_extension": ".py",
   "mimetype": "text/x-python",
   "name": "python",
   "nbconvert_exporter": "python",
   "pygments_lexer": "ipython2",
   "version": "2.7.17"
  },
  "toc": {
   "base_numbering": 1,
   "nav_menu": {},
   "number_sections": true,
   "sideBar": true,
   "skip_h1_title": false,
   "title_cell": "Table of Contents",
   "title_sidebar": "Contents",
   "toc_cell": false,
   "toc_position": {},
   "toc_section_display": true,
   "toc_window_display": false
  }
 },
 "nbformat": 4,
 "nbformat_minor": 4
}
