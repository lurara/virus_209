{
 "cells": [
  {
   "cell_type": "markdown",
   "metadata": {},
   "source": [
    "# EP2 - Modelando o SARS-CoV-2"
   ]
  },
  {
   "cell_type": "markdown",
   "metadata": {},
   "source": [
    "Hello, little fellows."
   ]
  },
  {
   "cell_type": "code",
   "execution_count": 3,
   "metadata": {},
   "outputs": [],
   "source": [
    "import math                          # exp(), ...\n",
    "#import matplotlib.pyplot as pyplot   # plot(), ..."
   ]
  },
  {
   "cell_type": "markdown",
   "metadata": {},
   "source": [
    "Neste EP você vai simular o modelo dinâmico do COVID-19 resolvendo numericamente, por\n",
    "Euler, a eq. 4 para algumas situações diferentes ligadas aos parâmetros $\\alpha, \\lambda,$ A e $t_0$."
   ]
  },
  {
   "cell_type": "markdown",
   "metadata": {},
   "source": [
    "$\\frac{dN}{dt} = \\alpha \\bigg(1 - \\frac{N}{\\eta t^2} \\bigg)N - \\bigg(\\frac{2\\lambda t^2 - 1}{t} - \\frac{\\lambda (t_0)^2}{t} e^{-\\lambda (t-t_0)^2}\\bigg)N$"
   ]
  },
  {
   "cell_type": "markdown",
   "metadata": {},
   "source": [
    "sendo $\\alpha > 0$ o fator de crescimento, $t_0$ o tempo inicial que depende de medidas de restrição, $\\lambda = \\sigma^{-1}$ e $\\eta = 2A/t_0$, onde A é um parâmetro que depende do vírus e das medidas de restrição."
   ]
  },
  {
   "cell_type": "markdown",
   "metadata": {},
   "source": [
    "1. Assumindo que estamos numa ilha isolada, simule a evolução de N para um conjunto {$\\alpha, \\lambda$, A, $t_0$}. Nesse caso, o vetor de estados é unidimensional v(t) = \\[N\\](t). Faça um gráfico bonito para mostrar a evolução de v em relação a t, i.e. v(t). Faça também uma simulação dinâmica usando os recursos explicados em aula."
   ]
  },
  {
   "cell_type": "markdown",
   "metadata": {},
   "source": [
    "Dado o enunciado, a função que nos interessa recebe como parâmetros {$\\alpha, \\lambda, t_0, A$}. Sua evolução deve ser modelada a partir do método de Euler, por meio do qual se realiza uma aproximação da equação diferencial a partir de diferenças finitas:\n",
    "\n",
    "$$\\frac{dN}{dt} =  \\frac{N_{t+1} - N_{t}}{dt} \\rightarrow N_{t+1} = N_t + \\bigg[\\alpha \\bigg(1 - \\frac{N}{\\eta t^2} \\bigg)N - \\bigg(\\frac{2\\lambda t^2 - 1}{t} - \\frac{\\lambda (t_0)^2}{t} e^{-\\lambda (t-t_0)^2}\\bigg)N \\bigg]dt $$\n",
    "\n",
    "seja $N = N_t$, temos\n",
    "\n",
    "$$N_{t+1} = N_t + \\bigg[\\alpha \\bigg(1 - \\frac{N_t}{\\eta t^2} \\bigg)N_t - \\bigg(\\frac{2\\lambda t^2 - 1}{t} - \\frac{\\lambda (t_0)^2}{t} e^{-\\lambda (t-t_0)^2}\\bigg)N_t \\bigg]dt $$"
   ]
  },
  {
   "cell_type": "markdown",
   "metadata": {},
   "source": [
    "segue as implementações abaixo"
   ]
  },
  {
   "cell_type": "code",
   "execution_count": 8,
   "metadata": {},
   "outputs": [],
   "source": [
    "# N é o número de pessoas infectadas num certo tempo t\n",
    "\n",
    "def nextN(N_0, dt, alfa, lamb, t0, A, t):\n",
    "    eta = (2*A)/t0\n",
    "    #print(eta)\n",
    "    \n",
    "    N  = alfa*(1-N_0/(eta*t**2))\n",
    "    aux = ((2*lamb*t**2-1)-(lamb*t0**2)*(math.exp(-lamb*(t-t0)**2)))/t\n",
    "    #print(aux)\n",
    "    N -= aux\n",
    "    N *= dt*N_0\n",
    "    N += N_0\n",
    "    \n",
    "    return N"
   ]
  },
  {
   "cell_type": "code",
   "execution_count": 7,
   "metadata": {},
   "outputs": [
    {
     "name": "stdout",
     "output_type": "stream",
     "text": [
      "[177000, 53986.95055945379, 46807.82601384759, 42101.79637639358, 38709.61381513574, 36100.736501052284, 33992.479683062615, 32218.82935714443, 30675.5121562596, 29293.82317035826, 28026.931892073953, 26842.181534066654, 25716.499390495534, 24633.524624782847, 23581.733060528157, 22553.16572364917, 21542.53657796267, 20546.586285950485, 19563.600452537743, 18593.041033771227, 17635.2578362795, 16691.258337887455, 15762.521221940446, 14850.843641281666, 13958.215258731472, 13086.714122581378, 12238.420783582287, 11415.347969452232, 10619.383749565495, 9852.24654183357, 9115.450599643287, 8410.280812196012, 7737.7757861510645, 7098.718270411148, 6493.632053265943, 5922.784511720165, 5386.1940334936, 4883.641567634868, 4414.68559321544, 3978.679829398575, 3574.7930457862476, 3202.0303702514816, 2859.25553294978, 2545.2135300159516, 2258.553238454298, 1997.8495645470166, 1761.6247611644008, 1548.3686039244033, 1356.5571713569739, 1184.6700291360764, 1031.2056720676312, 894.6951288923261, 773.7136831609406, 666.8907076466263, 572.9176492868613, 490.5542359715855, 418.63300526541497, 356.0622782077793, 301.8277186937387, 254.99263078726815, 214.69715299355664, 180.15651047548516, 150.6584839931985, 125.56024858829484, 104.28472637170606, 86.31658685737648, 71.19801574292863, 58.524359463977945, 47.93973877518153, 39.13271050637634, 31.832042901131373, 25.802656887171025, 20.84177349861473, 16.775296643657267, 13.454450598694896, 10.75268306465363, 8.562837348566253, 6.794591198611917, 5.372154957945341, 4.232217922621537, 3.322128986956006, 2.598295721767212, 2.0247848395728516, 1.5721064394389566, 1.2161643809767568]\n"
     ]
    }
   ],
   "source": [
    "def main():\n",
    "    # Alguns dos dados abaixo foram retirados do \n",
    "    # documento do Sonino para o caso da Itália (p. 12)\n",
    "    # https://arxiv.org/pdf/2003.13540v5.pdf\n",
    "    \n",
    "    N_0 = 177000\n",
    "    dt = 1\n",
    "    alfa = 0.2\n",
    "    lamb = 0.0014\n",
    "    t0 = 70.6\n",
    "    A = 302.5\n",
    "    t = t0\n",
    "    N = N_0\n",
    "    v = []\n",
    "    \n",
    "    while(t < 155 and N >= 0):\n",
    "        v.append(N)\n",
    "        t += dt\n",
    "        N = nextN(N, dt, alfa, lamb, t0, A, t)\n",
    "    \n",
    "    print(v)\n",
    "\n",
    "    # pyplot.figure()\n",
    "    # pyplot.plot(v)\n",
    "    # pyplot.title('Número de casos na Itália')\n",
    "    # pyplot.close()\n",
    "    \n",
    "\n",
    "main()"
   ]
  },
  {
   "cell_type": "code",
   "execution_count": null,
   "metadata": {},
   "outputs": [],
   "source": []
  }
 ],
 "metadata": {
  "hide_input": false,
  "kernelspec": {
   "display_name": "Python 3",
   "language": "python",
   "name": "python3"
  },
  "toc": {
   "base_numbering": 1,
   "nav_menu": {},
   "number_sections": true,
   "sideBar": true,
   "skip_h1_title": false,
   "title_cell": "Table of Contents",
   "title_sidebar": "Contents",
   "toc_cell": false,
   "toc_position": {},
   "toc_section_display": true,
   "toc_window_display": false
  }
 },
 "nbformat": 4,
 "nbformat_minor": 4
}
