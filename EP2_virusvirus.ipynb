{
 "cells": [
  {
   "cell_type": "markdown",
   "metadata": {},
   "source": [
    "# EP2 - Modelando o SARS-CoV-2"
   ]
  },
  {
   "cell_type": "markdown",
   "metadata": {},
   "source": [
    "$[x]$ Parte 1 $[ ]$ Parte 2 $[ ]$ Relatório $[ ]$ Extra + CSV?\n",
    "\n",
    "Mudar primeiro teste para o da figura 10 do sonnino"
   ]
  },
  {
   "cell_type": "markdown",
   "metadata": {},
   "source": [
    "Hello, little fellows."
   ]
  },
  {
   "cell_type": "code",
   "execution_count": 179,
   "metadata": {},
   "outputs": [],
   "source": [
    "import math                          # exp(), ...\n",
    "import matplotlib.pyplot as pyplot   # plot(), ...\n",
    "import numpy                         # ones(), ...\n",
    "import random                        # geração de números aleatórios\n",
    "\n",
    "# Animação\n",
    "from matplotlib import animation, rc\n",
    "from IPython.display import HTML\n",
    "import requests\n",
    "import os\n",
    "from io import BytesIO"
   ]
  },
  {
   "cell_type": "markdown",
   "metadata": {},
   "source": [
    "Neste EP você vai simular o modelo dinâmico do COVID-19 resolvendo numericamente, por\n",
    "Euler, a eq. 4 para algumas situações diferentes ligadas aos parâmetros $\\alpha, \\lambda,$ A e $t_0$."
   ]
  },
  {
   "cell_type": "markdown",
   "metadata": {},
   "source": [
    "$\\frac{dN}{dt} = \\alpha \\bigg(1 - \\frac{N}{\\eta t^2} \\bigg)N - \\bigg(\\frac{2\\lambda t^2 - 1}{t} - \\frac{\\lambda (t_0)^2}{t} e^{-\\lambda (t-t_0)^2}\\bigg)N$"
   ]
  },
  {
   "cell_type": "markdown",
   "metadata": {},
   "source": [
    "sendo $\\alpha > 0$ o fator de crescimento, $t_0$ o tempo inicial que depende de medidas de restrição, $\\lambda = \\sigma^{-1}$ e $\\eta = 2A/t_0$, onde A é um parâmetro que depende do vírus e das medidas de restrição. O parâmetro $\\eta$ foi usado em substitução do A."
   ]
  },
  {
   "cell_type": "markdown",
   "metadata": {},
   "source": [
    "## Método de Euler"
   ]
  },
  {
   "cell_type": "markdown",
   "metadata": {},
   "source": [
    "Dado o enunciado, a função que nos interessa recebe como parâmetros {$\\alpha, \\lambda, t_0, A$} (neste caso, em vez de A recebo $\\eta$). Sua evolução deve ser modelada a partir do método de Euler, por meio do qual se realiza uma aproximação da equação diferencial a partir de diferenças finitas:\n",
    "\n",
    "$$\\frac{dN}{dt} =  \\frac{N_{t+1} - N_{t}}{dt} \\rightarrow N_{t+1} = N_t + \\bigg[\\alpha \\bigg(1 - \\frac{N}{\\eta t^2} \\bigg)N - \\bigg(\\frac{2\\lambda t^2 - 1}{t} - \\frac{\\lambda (t_0)^2}{t} e^{-\\lambda (t-t_0)^2}\\bigg)N \\bigg]dt $$\n",
    "\n",
    "seja $N = N_t$, temos\n",
    "\n",
    "$$N_{t+1} = N_t + \\bigg[\\alpha \\bigg(1 - \\frac{N_t}{\\eta t^2} \\bigg)N_t - \\bigg(\\frac{2\\lambda t^2 - 1}{t} - \\frac{\\lambda (t_0)^2}{t} e^{-\\lambda (t-t_0)^2}\\bigg)N_t \\bigg]dt \\\\ $$\n",
    "\n",
    "que é o número de pessoas infectadas para um tempo $t$."
   ]
  },
  {
   "cell_type": "code",
   "execution_count": 180,
   "metadata": {},
   "outputs": [],
   "source": [
    "# N é o número de pessoas infectadas num certo tempo t\n",
    "\n",
    "def nextN(N_0, dt, alfa, lamb, t0, eta, t):\n",
    "    #eta = (2*A)/t0\n",
    "    #print(eta)\n",
    "    \n",
    "    N  = alfa*(1-N_0/(eta*t**2))\n",
    "    aux = ((2*lamb*t**2 -1)-(lamb*t0**2)*(math.exp(-lamb*(t-t0)**2)))/t\n",
    "    #print(aux)\n",
    "    N -= aux\n",
    "    N *= N_0\n",
    "    \n",
    "    # Euler\n",
    "    N *= dt\n",
    "    N += N_0\n",
    "    \n",
    "    return N"
   ]
  },
  {
   "cell_type": "markdown",
   "metadata": {},
   "source": [
    "## Parte 1\n",
    "$-----------------------------------------------------------$"
   ]
  },
  {
   "cell_type": "markdown",
   "metadata": {},
   "source": [
    "1. Assumindo que estamos numa ilha isolada, simule a evolução de N para um conjunto {$\\alpha, \\lambda$, A, $t_0$}. Nesse caso, o vetor de estados é unidimensional v(t) = \\[N\\](t). Faça um gráfico bonito para mostrar a evolução de v em relação a t, i.e. v(t). Faça também uma simulação dinâmica usando os recursos explicados em aula."
   ]
  },
  {
   "cell_type": "markdown",
   "metadata": {},
   "source": [
    "### Simulação "
   ]
  },
  {
   "cell_type": "code",
   "execution_count": 181,
   "metadata": {},
   "outputs": [],
   "source": [
    "# Retorna o vetor de estados\n",
    "\n",
    "def sim():\n",
    "    # Alguns dos dados abaixo foram retirados do \n",
    "    # documento do Sonino para o caso da Itália (p. 12)\n",
    "    # https://arxiv.org/pdf/2003.13540v5.pdf\n",
    "    # A maioria é aleatória tho\n",
    "    \n",
    "    N_0 = 1             # 165155 - número de casos inicial\n",
    "    dt = 1              # passo = 1 dia\n",
    "    t0 = 70.6           # 40 - parâmetro relativo ao pico da curva?\n",
    "    lamb = 0.0014       # 0.001 - para uma simulação decente, tive que usar na ordem de 10^{-3}\n",
    "    alfa = 2*t0*lamb    # 0.2 - do pdf do Sonnino, alfa = 2t0*lamb\n",
    "    #A = 100            # 302.5 - 100 - não muda mt coisa\n",
    "    eta = 60.5\n",
    "    \n",
    "    t = 1\n",
    "    N = N_0\n",
    "    v = []\n",
    "    #t_f = 100\n",
    "    \n",
    "    while(N >= 1): #t <= t_f and\n",
    "        v.append(int(N))\n",
    "        t += dt\n",
    "        N = nextN(N, dt, alfa, lamb, t0, eta, t)\n",
    "        \n",
    "    #print(v)\n",
    "    return v"
   ]
  },
  {
   "cell_type": "markdown",
   "metadata": {},
   "source": [
    "### Simulação em Gráfico:"
   ]
  },
  {
   "cell_type": "code",
   "execution_count": 182,
   "metadata": {},
   "outputs": [
    {
     "data": {
      "image/png": "[encoded data removed]",
      "text/plain": [
       "<Figure size 432x288 with 1 Axes>"
      ]
     },
     "metadata": {
      "needs_background": "light"
     },
     "output_type": "display_data"
    }
   ],
   "source": [
    "def simPlot(v):\n",
    "    pyplot.figure()\n",
    "    pyplot.plot(v,linestyle='',marker='o',color='c')\n",
    "    pyplot.title('Casos de COVID-19')\n",
    "    pyplot.ylabel('Num. de casos')\n",
    "    pyplot.xlabel('Tempo (em dias)')\n",
    "    pyplot.show()    \n",
    "\n",
    "simPlot(sim())"
   ]
  },
  {
   "cell_type": "markdown",
   "metadata": {},
   "source": [
    "### Simulação Dinâmica:"
   ]
  },
  {
   "cell_type": "code",
   "execution_count": null,
   "metadata": {},
   "outputs": [],
   "source": [
    "def init_animate():\n",
    "    line.set_data([], [])\n",
    "    return (line,)\n",
    "\n",
    "def animate(i):\n",
    "    ind0 = i%len(yAnim)\n",
    "    ind1 = (i+1)%len(yAnim)\n",
    "    ind1 = ind0\n",
    "    line.set_data([xAnim[ind0], xAnim[ind1]] , [yAnim[ind0], yAnim[ind1]])\n",
    "    #ind = i%len(yAnim)\n",
    "    #line.set_data(xAnim[ind], yAnim[ind]\n",
    "    return (line,)\n",
    "\n",
    "def createAnimPlot(title):\n",
    "    figAnim, axAnim = pyplot.subplots(1, 1)\n",
    "    axAnim = pyplot.axes(xlim=(-5, 165), ylim=(-100, 130000))\n",
    "    # obs: o eixo muda se mudar os parâmetros de entrada\n",
    "    \n",
    "    pyplot.title(title)\n",
    "    \n",
    "    line, = axAnim.plot([], [], 'r-*', lw=5, color='c')\n",
    "    frames=len(yAnim)-1\n",
    "    \n",
    "    return(figAnim, axAnim, frames, line)\n",
    "\n",
    "t = 1\n",
    "tempo = []\n",
    "v = sim()\n",
    "t_f = len(v)\n",
    "\n",
    "while(t <= t_f):\n",
    "    tempo.append(t)\n",
    "    t += 1\n",
    "\n",
    "#print(v)\n",
    "#print(tempo)\n",
    "\n",
    "yAnim = v\n",
    "xAnim = tempo\n",
    "figAnim, axAnim, frames, line = createAnimPlot('Casos de COVID-19 ao longo do tempo')\n",
    "anim = animation.FuncAnimation(figAnim, animate, init_func=init_animate, frames=frames, interval=50, blit=True)\n",
    "rc('animation', html='jshtml')\n",
    "pyplot.ylabel('Num. de casos')\n",
    "pyplot.xlabel('Tempo (em dias)')\n",
    "pyplot.close()\n",
    "\n",
    "anim"
   ]
  },
  {
   "cell_type": "markdown",
   "metadata": {},
   "source": [
    "## Parte 2\n",
    "$-----------------------------------------------------------$"
   ]
  },
  {
   "cell_type": "markdown",
   "metadata": {},
   "source": [
    "2. Agora, com sua experiência anterior, simule para cinco ilhas diferentes sorteando os valores de {$\\alpha, \\lambda$, A, $t_0$}. Nesse caso, o vetor de estados é 5-dimensional v(t) = \\[$N_0, N_1, N_2, N_3, N_4$\\](t). Faça gráficos bonitos para mostrar a evolução de v em relação a t, i.e. v(t) para as diferentes ilhas. Assim, os gráficos irão mostrar a evolução de $N_i$, onde onde i é um rótulos para cada ilha, em relação a t. Crie igualmente um gráfico mostrando a evolução do módulo de v(t), i.e. $||v(t)||$. Plote também os produtos cartesianos das coordenadas do vetor de estados, i.e. $N_0xN_1, N_0xN_2$, etc., de maneira similar aos gráficos de borboleta das equações de Lorenz. Faça também uma simulação dinâmica usando os recursos explicados em aula."
   ]
  },
  {
   "cell_type": "markdown",
   "metadata": {},
   "source": [
    "Visto que $\\alpha$ é dependente de $\\lambda$ e de $t_0$, os parâmetros sorteados aleatóriamente serão $\\lambda, t_0, A$. "
   ]
  },
  {
   "cell_type": "markdown",
   "metadata": {},
   "source": [
    "### Simulação"
   ]
  },
  {
   "cell_type": "code",
   "execution_count": null,
   "metadata": {},
   "outputs": [],
   "source": [
    "# Retorna o vetor de estados de 4 dimensões\n",
    "\n",
    "def sim_mult():\n",
    "    random.seed(100)\n",
    "    i = 0\n",
    "    \n",
    "    N_0 = []\n",
    "    N_1 = []\n",
    "    N_2 = []\n",
    "    N_3 = []\n",
    "    N_4 = []\n",
    "    \n",
    "    for i in range(0, 5): # vai de 0 a 4\n",
    "        \n",
    "        if(i == 0):\n",
    "            aux = N_0\n",
    "        elif(i == 1):\n",
    "            aux = N_1\n",
    "        elif(i == 2):\n",
    "            aux = N_2\n",
    "        elif(i == 3):\n",
    "            aux = N_3\n",
    "        else:\n",
    "            aux = N_4\n",
    "        \n",
    "        #lux = 0.0043, ita = 0.0014, bel = 0.0025\n",
    "        #antes = 0.001 - 0.009\n",
    "        random_num = random.uniform(0.001, 0.005) \n",
    "        lamb = random_num   # para uma simulação decente, tive que usar na ordem de 10^{-3}\n",
    "        \n",
    "        #lux = 38.5, ita = 70.6, bel = 48.8\n",
    "        # antes = 1 - 100\n",
    "        random_num = random.uniform(30, 90)\n",
    "        t0 = random_num     # parâmetro relativo ao pico da curva?\n",
    "        \n",
    "        #A = (eta*t0)/2\n",
    "        #lux = 82.775, ita = 2135.65, bel = 719.8\n",
    "        # antes = 1 - 999\n",
    "        random_num = random.uniform(600, 2500)\n",
    "        A = random_num      # não muda mt coisa\n",
    "        \n",
    "        #lux = 4.3, ita = 60.5, bel = 29.5\n",
    "        #eta = 2A/t0\n",
    "        \n",
    "        #lux = 0.33, alfa = 0.2, bel = 0.24\n",
    "        alfa = 2*t0*lamb    # do PDF do Sonnino\n",
    "        #print(alfa)\n",
    "\n",
    "        init_N = 1          \n",
    "        dt = 1\n",
    "        t = 1\n",
    "        N = init_N\n",
    "        #v = []\n",
    "        t_f = 100\n",
    "\n",
    "        while(t <= t_f): #and N >= 1\n",
    "            aux.append(int(N))\n",
    "            t += dt\n",
    "            N = nextN(N, dt, alfa, lamb, t0, A, t)\n",
    "            if(N < 0):\n",
    "                N = 0\n",
    "    \n",
    "    # Concatenar em v\n",
    "    v = (N_0, N_1, N_2, N_3, N_4)\n",
    "        \n",
    "    #print(v)\n",
    "    return v"
   ]
  },
  {
   "cell_type": "markdown",
   "metadata": {},
   "source": [
    "### Simulação em gráfico em relação a t:"
   ]
  },
  {
   "cell_type": "code",
   "execution_count": null,
   "metadata": {},
   "outputs": [],
   "source": [
    "def simPlot_mult(v):\n",
    "    pyplot.figure(0, figsize=(13,10))\n",
    "    # mudar o tamanho dos blocos ^\n",
    "        \n",
    "    pyplot.subplot(2,2,1)\n",
    "    pyplot.plot(v[0],linestyle='',marker='o',color='r')\n",
    "    pyplot.title('Casos de COVID-19 - Ilha 0')\n",
    "    pyplot.ylabel('Num. de casos, $N_0$')\n",
    "    pyplot.xlabel('Tempo (em dias)')\n",
    "\n",
    "    pyplot.subplot(2,2,2)\n",
    "    pyplot.plot(v[1],linestyle='',marker='o',color='m')\n",
    "    pyplot.title('Casos de COVID-19 - Ilha 1')\n",
    "    pyplot.ylabel('Num. de casos, $N_1$')\n",
    "    pyplot.xlabel('Tempo (em dias)')\n",
    "    \n",
    "    \n",
    "    pyplot.subplot(2,2,3)\n",
    "    pyplot.plot(v[2],linestyle='',marker='o',color='c')\n",
    "    pyplot.title('Casos de COVID-19 - Ilha 2')\n",
    "    pyplot.ylabel('Num. de casos, $N_2$')\n",
    "    pyplot.xlabel('Tempo (em dias)')\n",
    "    \n",
    "    pyplot.subplot(2,2,4)\n",
    "    pyplot.plot(v[3],linestyle='',marker='o',color='g')\n",
    "    pyplot.title('Casos de COVID-19 - Ilha 3')\n",
    "    pyplot.ylabel('Num. de casos, $N_3$')\n",
    "    pyplot.xlabel('Tempo (em dias)')\n",
    "    \n",
    "    pyplot.figure(1, figsize=(6.5,5))\n",
    "    pyplot.plot(v[4],linestyle='',marker='o',color='b')\n",
    "    pyplot.title('Casos de COVID-19 - Ilha 4')\n",
    "    pyplot.ylabel('Num. de casos, $N_4$')\n",
    "    pyplot.xlabel('Tempo (em dias)')\n",
    "        \n",
    "    #pyplot.show()\n",
    "    #print(v)\n",
    "\n",
    "simPlot_mult(sim_mult())"
   ]
  },
  {
   "cell_type": "markdown",
   "metadata": {},
   "source": [
    "### Simulação em gráfico em relação a $||v(t)||$:"
   ]
  },
  {
   "cell_type": "markdown",
   "metadata": {},
   "source": [
    "É pedida a norma do vetor de estados, portanto, temos\n",
    "\n",
    "$$||v(t)|| = \\sqrt{(N_0(t))^2 + (N_1(t))^2 + (N_2(t))^2 + (N_3(t))^2 + (N_4(t))^2}$$\n",
    "\n",
    "para cada t analisado."
   ]
  },
  {
   "cell_type": "code",
   "execution_count": null,
   "metadata": {},
   "outputs": [],
   "source": [
    "# Recebe um vetor de estados v, mostra o gráfico da norma\n",
    "\n",
    "def simMod(v):\n",
    "    N_size = len(v[0])\n",
    "    i = total = 0\n",
    "    mod = []\n",
    "    \n",
    "    for i in range (0, N_size):\n",
    "        total = math.sqrt((v[0][i])**2 + (v[1][i])**2 + (v[2][i])**2 + (v[3][i])**2 + (v[4][i])**2)\n",
    "        mod.append(total)\n",
    "        \n",
    "    \n",
    "    pyplot.figure()\n",
    "    pyplot.plot(mod,linestyle='',marker='*',color='c')\n",
    "    pyplot.title('Modulo do vetor de estados')\n",
    "    pyplot.ylabel('||v(t)||')\n",
    "    pyplot.xlabel('t')\n",
    "    pyplot.show()\n",
    "\n",
    "simMod(sim_mult())"
   ]
  },
  {
   "cell_type": "markdown",
   "metadata": {},
   "source": [
    "### Simulação em produto cartesiano:"
   ]
  },
  {
   "cell_type": "markdown",
   "metadata": {},
   "source": [
    "Abaixo, encontram-se os produtos cartesianos das coordenadas do vetor de estados. Assim, temos a representação de $N_ixN_j$, sendo $i \\neq j$, assumindo valores $[0,1,2,3,4]$."
   ]
  },
  {
   "cell_type": "code",
   "execution_count": null,
   "metadata": {},
   "outputs": [],
   "source": [
    "def sim_cart(v,case,ilha):\n",
    "    i = 1;\n",
    "    title = ''\n",
    "\n",
    "    pyplot.figure(0, figsize=(13,10))\n",
    "    pyplot.subplots_adjust(wspace=0.3, hspace=0.3)\n",
    "\n",
    "    if(case != 0):\n",
    "        title = 'N'\n",
    "        title += str(case)\n",
    "        title += 'xN0'\n",
    "        pyplot.subplot(2,2,i)\n",
    "        pyplot.plot(v[case], v[0], color='c')\n",
    "        pyplot.title(title)\n",
    "        pyplot.ylabel('$Ilha_0$')\n",
    "        pyplot.xlabel(ilha)\n",
    "        ax = pyplot.gca()\n",
    "        pyplot.setp(ax.get_xticklabels(), rotation=30, horizontalalignment='right')\n",
    "        i += 1\n",
    "    \n",
    "    if(case != 1):\n",
    "        title = 'N'\n",
    "        title += str(case)\n",
    "        title += 'xN1'\n",
    "        pyplot.subplot(2,2,i)\n",
    "        pyplot.plot(v[case], v[1], color='c')\n",
    "        pyplot.title(title)\n",
    "        pyplot.ylabel('$Ilha_1$')\n",
    "        pyplot.xlabel(ilha)\n",
    "        ax = pyplot.gca()\n",
    "        pyplot.setp(ax.get_xticklabels(), rotation=30, horizontalalignment='right')\n",
    "        i += 1\n",
    "\n",
    "    if(case != 2):\n",
    "        title = 'N'\n",
    "        title += str(case)\n",
    "        title += 'xN2'\n",
    "        pyplot.subplot(2,2,i)\n",
    "        pyplot.plot(v[case], v[2],color='c')\n",
    "        pyplot.title(title)\n",
    "        pyplot.ylabel('$Ilha_2$')\n",
    "        pyplot.xlabel(ilha)\n",
    "        ax = pyplot.gca()\n",
    "        pyplot.setp(ax.get_xticklabels(), rotation=30, horizontalalignment='right')\n",
    "        i += 1\n",
    "\n",
    "    if(case != 3):\n",
    "        title = 'N'\n",
    "        title += str(case)\n",
    "        title += 'xN3'\n",
    "        pyplot.subplot(2,2,i)\n",
    "        pyplot.plot(v[case], v[3], color='c')\n",
    "        pyplot.title(title)\n",
    "        pyplot.ylabel('$Ilha_3$')\n",
    "        ax = pyplot.gca()\n",
    "        pyplot.setp(ax.get_xticklabels(), rotation=30, horizontalalignment='right')\n",
    "        pyplot.xlabel(ilha)\n",
    "        i += 1\n",
    "\n",
    "    if(case != 4):\n",
    "        title = 'N'\n",
    "        title += str(case)\n",
    "        title += 'xN4'\n",
    "        pyplot.subplot(2,2,i)\n",
    "        pyplot.plot(v[case], v[4], color='c')\n",
    "        pyplot.title(title)\n",
    "        pyplot.ylabel('$Ilha_4$')\n",
    "        pyplot.xlabel(ilha)\n",
    "        ax = pyplot.gca()\n",
    "        pyplot.setp(ax.get_xticklabels(), rotation=30, horizontalalignment='right')"
   ]
  },
  {
   "cell_type": "code",
   "execution_count": null,
   "metadata": {},
   "outputs": [],
   "source": [
    "sim_cart(sim_mult(), 0, '$Ilha_0$')"
   ]
  },
  {
   "cell_type": "code",
   "execution_count": null,
   "metadata": {},
   "outputs": [],
   "source": [
    "sim_cart(sim_mult(), 1, '$Ilha_1$')"
   ]
  },
  {
   "cell_type": "code",
   "execution_count": null,
   "metadata": {},
   "outputs": [],
   "source": [
    "sim_cart(sim_mult(), 2, '$Ilha_2$')"
   ]
  },
  {
   "cell_type": "code",
   "execution_count": null,
   "metadata": {},
   "outputs": [],
   "source": [
    "sim_cart(sim_mult(), 0, '$Ilha_3$')"
   ]
  },
  {
   "cell_type": "code",
   "execution_count": null,
   "metadata": {},
   "outputs": [],
   "source": [
    "sim_cart(sim_mult(), 4, '$Ilha_4$')"
   ]
  },
  {
   "cell_type": "code",
   "execution_count": null,
   "metadata": {},
   "outputs": [],
   "source": []
  }
 ],
 "metadata": {
  "hide_input": false,
  "kernelspec": {
   "display_name": "Python 2",
   "language": "python",
   "name": "python2"
  },
  "language_info": {
   "codemirror_mode": {
    "name": "ipython",
    "version": 2
   },
   "file_extension": ".py",
   "mimetype": "text/x-python",
   "name": "python",
   "nbconvert_exporter": "python",
   "pygments_lexer": "ipython2",
   "version": "2.7.17"
  },
  "toc": {
   "base_numbering": 1,
   "nav_menu": {},
   "number_sections": true,
   "sideBar": true,
   "skip_h1_title": false,
   "title_cell": "Table of Contents",
   "title_sidebar": "Contents",
   "toc_cell": false,
   "toc_position": {},
   "toc_section_display": true,
   "toc_window_display": false
  }
 },
 "nbformat": 4,
 "nbformat_minor": 4
}
