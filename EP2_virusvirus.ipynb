{
 "cells": [
  {
   "cell_type": "markdown",
   "metadata": {},
   "source": [
    "# EP2 - Modelando o SARS-CoV-2"
   ]
  },
  {
   "cell_type": "markdown",
   "metadata": {},
   "source": [
    "Hello, little fellows."
   ]
  },
  {
   "cell_type": "code",
   "execution_count": 24,
   "metadata": {},
   "outputs": [],
   "source": [
    "import math   # exp(), ..."
   ]
  },
  {
   "cell_type": "markdown",
   "metadata": {},
   "source": [
    "Neste EP você vai simular o modelo dinâmico do COVID-19 resolvendo numericamente, por\n",
    "Euler, a eq. 4 para algumas situações diferentes ligadas aos parâmetros $\\alpha, \\lambda,$ A e $t_0$."
   ]
  },
  {
   "cell_type": "markdown",
   "metadata": {},
   "source": [
    "$\\frac{dN}{dt} = \\alpha \\bigg(1 - \\frac{N}{\\eta t^2} \\bigg)N - \\bigg(\\frac{2\\lambda t^2 - 1}{t} - \\frac{\\lambda (t_0)^2}{t} e^{-\\lambda (t-t_0)^2}\\bigg)N$"
   ]
  },
  {
   "cell_type": "markdown",
   "metadata": {},
   "source": [
    "sendo $\\alpha > 0$ o fator de crescimento, $t_0$ o tempo inicial que depende de medidas de restrição, $\\lambda = \\sigma^{-1}$ e $\\eta = 2A/t_0$, onde A é um parâmetro que depende do vírus e das medidas de restrição."
   ]
  },
  {
   "cell_type": "markdown",
   "metadata": {},
   "source": [
    "1. Assumindo que estamos numa ilha isolada, simule a evolução de N para um conjunto {$\\alpha, \\lambda$, A, $t_0$}. Nesse caso, o vetor de estados é unidimensional v(t) = \\[N\\](t). Faça um gráfico bonito para mostrar a evolução de v em relação a t, i.e. v(t). Faça também uma simulação dinâmica usando os recursos explicados em aula."
   ]
  },
  {
   "cell_type": "markdown",
   "metadata": {},
   "source": [
    "Dado o enunciado, a função que nos interessa recebe como parâmetros {$\\alpha, \\lambda, t_0, A$}. Sua evolução deve ser modelada a partir do método de Euler, por meio do qual se realiza uma aproximação da equação diferencial a partir de diferenças finitas:\n",
    "\n",
    "$$\\frac{dN}{dt} =  \\frac{N_t - N_{t-1}}{dt} \\rightarrow N_t = N_{t-1} + \\bigg[\\alpha \\bigg(1 - \\frac{N}{\\eta t^2} \\bigg)N - \\bigg(\\frac{2\\lambda t^2 - 1}{t} - \\frac{\\lambda (t_0)^2}{t} e^{-\\lambda (t-t_0)^2}\\bigg)N \\bigg]dt $$"
   ]
  },
  {
   "cell_type": "markdown",
   "metadata": {},
   "source": [
    "segue as implementações abaixo"
   ]
  },
  {
   "cell_type": "code",
   "execution_count": 47,
   "metadata": {},
   "outputs": [],
   "source": [
    "# N é o número de pessoas infectadas num certo tempo t\n",
    "# obs: acredito que N_{t-1} seja o mesmo que N.\n",
    "\n",
    "def nextN(N_0, dt, alfa, lamb, t0, A, t):\n",
    "    eta = (2*A)/t0\n",
    "    \n",
    "    N  = alfa*(1-N_0/(eta*t**2)) \n",
    "    N -= ((2*lamb*t**2-1)-(lamb*t0**2)*(math.exp(-lamb*(t-t0)**2)))/t\n",
    "    N *= dt*N_0\n",
    "    N += N_0\n",
    "    \n",
    "    return N"
   ]
  },
  {
   "cell_type": "code",
   "execution_count": 48,
   "metadata": {},
   "outputs": [
    {
     "name": "stdout",
     "output_type": "stream",
     "text": [
      "0.5333332222222633\n"
     ]
    }
   ],
   "source": [
    "def main():\n",
    "    # Números aleatórios\n",
    "    N_0 = 1\n",
    "    dt = 0.1\n",
    "    alfa = 1\n",
    "    lamb = 1\n",
    "    t0 = 0.0001\n",
    "    A = 5\n",
    "    t = 3\n",
    "    \n",
    "    N = nextN(N_0, dt, alfa, lamb, t0, A, t)\n",
    "    \n",
    "    print(N)\n",
    "    \n",
    "\n",
    "main()"
   ]
  },
  {
   "cell_type": "code",
   "execution_count": null,
   "metadata": {},
   "outputs": [],
   "source": []
  }
 ],
 "metadata": {
  "hide_input": false,
  "kernelspec": {
   "display_name": "Python 3",
   "language": "python",
   "name": "python3"
  },
  "language_info": {
   "codemirror_mode": {
    "name": "ipython",
    "version": 3
   },
   "file_extension": ".py",
   "mimetype": "text/x-python",
   "name": "python",
   "nbconvert_exporter": "python",
   "pygments_lexer": "ipython3",
   "version": "3.7.3"
  },
  "toc": {
   "base_numbering": 1,
   "nav_menu": {},
   "number_sections": true,
   "sideBar": true,
   "skip_h1_title": false,
   "title_cell": "Table of Contents",
   "title_sidebar": "Contents",
   "toc_cell": false,
   "toc_position": {},
   "toc_section_display": true,
   "toc_window_display": false
  }
 },
 "nbformat": 4,
 "nbformat_minor": 4
}
